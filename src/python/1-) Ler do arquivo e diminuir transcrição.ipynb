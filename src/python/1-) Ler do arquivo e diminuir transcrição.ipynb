{
 "cells": [
  {
   "cell_type": "code",
   "execution_count": null,
   "id": "a343d76c-a3c9-423e-8155-293a8747f5d8",
   "metadata": {},
   "outputs": [],
   "source": [
    "# Vamos carregar o conteúdo do arquivo WEBVTT e processá-lo para remover as informações de hash de tempo,\n",
    "# abreviar o nome e deixar apenas a sequência da conversa com a pessoa e o texto falado.\n",
    "\n",
    "def processar_webvtt(caminho_arquivo):\n",
    "\n",
    "    #webvtt_content = \"\"\n",
    "    \n",
    "    # Abrir o arquivo e ler o conteúdo\n",
    "    with open(caminho_arquivo, 'r', encoding='utf-8') as arquivo:\n",
    "        webvtt_content = arquivo.read()\n",
    "        \n",
    "    # Dividindo o conteúdo em linhas\n",
    "    lista_linhas = webvtt_content.strip().split('\\n')\n",
    "            \n",
    "    \n",
    "    # Inicializando uma lista para armazenar o conteúdo processado\n",
    "    linhas_processadas = []\n",
    "    \n",
    "    # Processando as linhas\n",
    "    for linha in lista_linhas:\n",
    "    \n",
    "        #Se a linha começa com \"<v\" é porque é uma linha de alguém falando\n",
    "        if linha.startswith('<v'):\n",
    "            \n",
    "            # Extrair o nome completo e abreviar\n",
    "            inicio_da_tag = line.find('<v') + 2 #Pega o índice do primeiro <v\n",
    "            fim_da_tag = linha.find('>') #Pega o índice do fechamento (no meio disso tem o nome da pessoa)\n",
    "            nome_completo = linha[inicio_da_tag:fim_da_tag] #\"Corta\" o nome completo da pessoa do resto da linha\n",
    "            \n",
    "            primeiro_nome = nome_completo.split()[0] #\"split\" usando em branco (é o padrão, não precisa falar, poderia ser split de qualquer coisa) e pega o primeiro só\n",
    "            \n",
    "            \n",
    "            # Substituir o nome completo pelo nome abreviado\n",
    "            fala_da_pessoa = linha[fim_da_tag+1:-4]\n",
    "            linhas_processadas.append(f\"{primeiro_nome}: {fala_da_pessoa}\")\n",
    "            \n",
    "        elif \"-->\" in line:\n",
    "            # Ignorar linhas de tempo\n",
    "            continue\n",
    "        else:\n",
    "            # Ignorar outras linhas (hashes, etc.)\n",
    "            continue\n",
    "    \n",
    "    # Juntando as linhas processadas\n",
    "    conteudo_transcricao_processado = \"\\n\".join(linhas_processadas)\n",
    "    \n",
    "    return conteudo_transcricao_processado\n"
   ]
  },
  {
   "cell_type": "code",
   "execution_count": null,
   "id": "d8354156-9df1-4299-8b64-522483ddc437",
   "metadata": {},
   "outputs": [],
   "source": [
    "processar_webvtt (\"../../dados/temporario/2024_08_04-tutoria python.vtt\")"
   ]
  }
 ],
 "metadata": {
  "kernelspec": {
   "display_name": "Python 3 (ipykernel)",
   "language": "python",
   "name": "python3"
  },
  "language_info": {
   "codemirror_mode": {
    "name": "ipython",
    "version": 3
   },
   "file_extension": ".py",
   "mimetype": "text/x-python",
   "name": "python",
   "nbconvert_exporter": "python",
   "pygments_lexer": "ipython3",
   "version": "3.11.7"
  }
 },
 "nbformat": 4,
 "nbformat_minor": 5
}
